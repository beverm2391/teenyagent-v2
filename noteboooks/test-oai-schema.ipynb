{
 "cells": [
  {
   "cell_type": "code",
   "execution_count": 5,
   "metadata": {},
   "outputs": [],
   "source": [
    "from openai import OpenAI\n",
    "from pydantic import BaseModel, Field\n",
    "\n",
    "\n",
    "class ObserverResponse(BaseModel):\n",
    "    results: list[str] = Field(description=\"A list of strings that are the facts that the observer extracted from the conversation.\")\n",
    "\n",
    "client = OpenAI()\n",
    "\n",
    "fake_response = \"France is a country in Europe. It is known for its food, fashion, and art.\"\n",
    "extraction_prompt = f\"Extract important facts from this conversation that you don't already know. Return a Python list of short strings. User: {fake_response}\"\n",
    "\n",
    "extraction = client.beta.chat.completions.parse(\n",
    "    model=\"gpt-4o-mini\",\n",
    "    messages=[{\"role\": \"user\", \"content\": extraction_prompt}],\n",
    "    max_tokens=1000,\n",
    "    response_format=ObserverResponse,\n",
    ").choices[0].message.parsed"
   ]
  },
  {
   "cell_type": "code",
   "execution_count": 6,
   "metadata": {},
   "outputs": [
    {
     "data": {
      "text/plain": [
       "ObserverResponse(results=['France is a country in Europe.', 'France is known for its food.', 'France is known for its fashion.', 'France is known for its art.'])"
      ]
     },
     "execution_count": 6,
     "metadata": {},
     "output_type": "execute_result"
    }
   ],
   "source": [
    "extraction.choices[0].message.parsed"
   ]
  }
 ],
 "metadata": {
  "kernelspec": {
   "display_name": "venv",
   "language": "python",
   "name": "python3"
  },
  "language_info": {
   "codemirror_mode": {
    "name": "ipython",
    "version": 3
   },
   "file_extension": ".py",
   "mimetype": "text/x-python",
   "name": "python",
   "nbconvert_exporter": "python",
   "pygments_lexer": "ipython3",
   "version": "3.10.11"
  }
 },
 "nbformat": 4,
 "nbformat_minor": 2
}
